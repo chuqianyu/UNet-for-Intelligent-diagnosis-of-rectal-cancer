{
 "cells": [
  {
   "cell_type": "markdown",
   "metadata": {},
   "source": [
    "## 1 模型搭建"
   ]
  },
  {
   "cell_type": "code",
   "execution_count": 1,
   "metadata": {
    "scrolled": true
   },
   "outputs": [
    {
     "name": "stdout",
     "output_type": "stream",
     "text": [
      "--2022-03-30 11:38:23--  http://datasrc.tipdm.net:81/python/case/RectalCancer/train_datas.npy\n",
      "正在解析主机 datasrc.tipdm.net... 203.88.218.216\n",
      "正在连接 datasrc.tipdm.net|203.88.218.216|:81... 已连接。\n",
      "已发出 HTTP 请求，正在等待回应... 200 OK\n",
      "长度：134960128 (129M)\n",
      "正在保存至: “/root/jupyter_notebook/train_datas.npy”\n",
      "\n",
      "100%[======================================>] 134,960,128 91.2M/s   in 1.4s    \n",
      "\n",
      "2022-03-30 11:38:24 (91.2 MB/s) - 已保存 “/root/jupyter_notebook/train_datas.npy” [134960128/134960128])\n",
      "\n",
      "--2022-03-30 11:38:25--  http://datasrc.tipdm.net:81/python/case/RectalCancer/test_datas.npy\n",
      "正在解析主机 datasrc.tipdm.net... 203.88.218.216\n",
      "正在连接 datasrc.tipdm.net|203.88.218.216|:81... 已连接。\n",
      "已发出 HTTP 请求，正在等待回应... 200 OK\n",
      "长度：33824128 (32M)\n",
      "正在保存至: “/root/jupyter_notebook/test_datas.npy”\n",
      "\n",
      "100%[======================================>] 33,824,128  96.3M/s   in 0.3s    \n",
      "\n",
      "2022-03-30 11:38:25 (96.3 MB/s) - 已保存 “/root/jupyter_notebook/test_datas.npy” [33824128/33824128])\n",
      "\n",
      "--2022-03-30 11:38:26--  http://datasrc.tipdm.net:81/python/case/RectalCancer/train_labels.npy\n",
      "正在解析主机 datasrc.tipdm.net... 203.88.218.216\n",
      "正在连接 datasrc.tipdm.net|203.88.218.216|:81... 已连接。\n",
      "已发出 HTTP 请求，正在等待回应... 200 OK\n",
      "长度：4948 (4.8K)\n",
      "正在保存至: “/root/jupyter_notebook/train_labels.npy”\n",
      "\n",
      "100%[======================================>] 4,948       --.-K/s   in 0s      \n",
      "\n",
      "2022-03-30 11:38:26 (415 MB/s) - 已保存 “/root/jupyter_notebook/train_labels.npy” [4948/4948])\n",
      "\n",
      "--2022-03-30 11:38:26--  http://datasrc.tipdm.net:81/python/case/RectalCancer/test_labels.npy\n",
      "正在解析主机 datasrc.tipdm.net... 203.88.218.216\n",
      "正在连接 datasrc.tipdm.net|203.88.218.216|:81... 已连接。\n",
      "已发出 HTTP 请求，正在等待回应... 200 OK\n",
      "长度：1336 (1.3K)\n",
      "正在保存至: “/root/jupyter_notebook/test_labels.npy”\n",
      "\n",
      "100%[======================================>] 1,336       --.-K/s   in 0s      \n",
      "\n",
      "2022-03-30 11:38:26 (196 MB/s) - 已保存 “/root/jupyter_notebook/test_labels.npy” [1336/1336])\n",
      "\n"
     ]
    }
   ],
   "source": [
    "# 下载数据\n",
    "!wget -P /root/jupyter_notebook http://datasrc.tipdm.net:81/python/case/RectalCancer/train_datas.npy\n",
    "!wget -P /root/jupyter_notebook http://datasrc.tipdm.net:81/python/case/RectalCancer/test_datas.npy\n",
    "!wget -P /root/jupyter_notebook http://datasrc.tipdm.net:81/python/case/RectalCancer/train_labels.npy\n",
    "!wget -P /root/jupyter_notebook http://datasrc.tipdm.net:81/python/case/RectalCancer/test_labels.npy"
   ]
  },
  {
   "cell_type": "code",
   "execution_count": 4,
   "metadata": {},
   "outputs": [],
   "source": [
    "import numpy as np\n",
    "import tensorflow as tf\n",
    "\n",
    "train_datas = np.load('train_datas.npy')\n",
    "test_datas = np.load('test_datas.npy')\n",
    "train_labels = np.load('train_labels.npy')\n",
    "test_labels = np.load('test_labels.npy')\n",
    "\n",
    "model_path = './tmp/save_model'\n",
    "num_classes = len(set(train_labels))\n",
    "data_placeholder = tf.placeholder(tf.float32,[None,200,140,1])\n",
    "labels_placeholder = tf.placeholder(tf.int32,[None])\n",
    "dropout_placeholder = tf.placeholder(tf.float32)\n",
    "def Conv(data,m,n):\n",
    "    return tf.layers.conv2d(data,m,n,activation=tf.nn.relu)\n",
    "def Pool(data):\n",
    "    return tf.layers.max_pooling2d(data,[2,2],[2,2])\n",
    "conv_1 = Conv(data_placeholder,20,5)\n",
    "pool_1 = Pool(conv_1)\n",
    "conv_2 = Conv(pool_1,40,4)\n",
    "pool_2 = Pool(conv_2)\n",
    "conv_3 = Conv(pool_2,80,2)\n",
    "pool_3 = Pool(conv_3)\n",
    "flatten = tf.layers.flatten(pool_3)\n",
    "fc = tf.layers.dense(flatten,400,activation=tf.nn.relu)\n",
    "dropout_fc = tf.layers.dropout(fc,dropout_placeholder)\n",
    "logits = tf.layers.dense(dropout_fc,num_classes)\n",
    "predicted_labels = tf.arg_max(logits,1)\n",
    "losses = tf.nn.softmax_cross_entropy_with_logits(\n",
    "    labels=tf.one_hot(labels_placeholder,num_classes),\n",
    "    logits=logits)\n",
    "mean_loss = tf.reduce_mean(losses)\n",
    "optimizer = tf.train.AdamOptimizer(learning_rate=1e-2).minimize(losses)"
   ]
  },
  {
   "cell_type": "markdown",
   "metadata": {},
   "source": [
    "## 2 CNN模型训练"
   ]
  },
  {
   "cell_type": "code",
   "execution_count": 5,
   "metadata": {},
   "outputs": [
    {
     "name": "stdout",
     "output_type": "stream",
     "text": [
      "开始训练模型\n",
      "数据分成21批，前面每批60数据，最后一批5数据\n",
      "第0次训练的损失率：15.353581\n",
      "第1次训练的损失率：13459.86\n",
      "第2次训练的损失率：506.6408\n",
      "第3次训练的损失率：151.99672\n",
      "第4次训练的损失率：38.60791\n",
      "第5次训练的损失率：0.9705894\n",
      "第6次训练的损失率：0.56520534\n",
      "第7次训练的损失率：0.5657701\n",
      "第8次训练的损失率：0.69387287\n",
      "第9次训练的损失率：0.6339985\n",
      "第10次训练的损失率：0.6666031\n",
      "第11次训练的损失率：0.60132724\n",
      "第12次训练的损失率：0.416391\n",
      "第13次训练的损失率：0.4193592\n",
      "第14次训练的损失率：0.7718432\n",
      "第15次训练的损失率：0.66506755\n",
      "第16次训练的损失率：0.61306155\n",
      "第17次训练的损失率：0.615803\n",
      "第18次训练的损失率：0.636338\n",
      "第19次训练的损失率：0.61064297\n",
      "损失率 0.577701\n",
      "训练结束，模型保存到： ./tmp/save_model\n"
     ]
    }
   ],
   "source": [
    "#保存\n",
    "saver = tf.train.Saver()\n",
    "def run_train():\n",
    "    global labels_placeholder\n",
    "    with tf.Session() as sess:\n",
    "        print('开始训练模型')\n",
    "        sess.run(tf.global_variables_initializer())\n",
    "        batch_size = 60\n",
    "        input_count = len(train_datas)\n",
    "        batches_count = int(input_count/batch_size)\n",
    "        remainder = input_count%batch_size\n",
    "        print('数据分成%s批，前面每批%s数据，最后一批%s数据'%(batches_count+1,\n",
    "                                           batch_size,remainder))\n",
    "\n",
    "        for step in range(1):\n",
    "            for n in range(batches_count):\n",
    "                train_feed_dict = {\n",
    "                    data_placeholder:train_datas[n*batch_size:(n+1)*batch_size],\n",
    "                    labels_placeholder:train_labels[n*batch_size:(n+1)*batch_size],\n",
    "                    dropout_placeholder:0.25\n",
    "                }\n",
    "                _,mean_loss_val = sess.run([optimizer,mean_loss],\n",
    "                                           feed_dict = train_feed_dict)\n",
    "                print('第%s次训练的损失率：%s'%(n,mean_loss_val))\n",
    "            if remainder >  0:\n",
    "                start_index = batches_count*batch_size\n",
    "                train_feed_dict = {\n",
    "                    data_placeholder:train_datas[start_index:input_count-1],\n",
    "                    labels_placeholder:train_labels[start_index:input_count-1],\n",
    "                    dropout_placeholder:0.25\n",
    "                }\n",
    "            _,mean_loss_val = sess.run([optimizer,mean_loss],\n",
    "                                        feed_dict = train_feed_dict)\n",
    "            print('损失率',mean_loss_val)\n",
    "            saver.save(sess,model_path)\n",
    "            print('训练结束，模型保存到：',model_path)\n",
    "\n",
    "run_train()"
   ]
  },
  {
   "cell_type": "markdown",
   "metadata": {},
   "source": [
    "## 3 测试模型"
   ]
  },
  {
   "cell_type": "code",
   "execution_count": 6,
   "metadata": {},
   "outputs": [
    {
     "name": "stdout",
     "output_type": "stream",
     "text": [
      "测试模式\n",
      "INFO:tensorflow:Restoring parameters from ./tmp/save_model\n",
      "[0 0 0 0 0 0 0 0 0 0 0 0 0 0 0 0 0 0 0 0 0 0 0 0 0 0 0 0 0 0 0 0 0 0 0 0 0\n",
      " 0 0 0 0 0 0 0 0 0 0 0 0 0 0 0 0 0 0 0 0 0 0 0 0 0 0 0 0 0 0 0 0 0 0 0 0 0\n",
      " 0 0 0 0 0 0 0 0 0 0 0 0 0 0 0 0 0 0 0 0 0 0 0 0 0 0 0 0 0 0 0 0 0 0 0 0 0\n",
      " 0 0 0 0 0 0 0 0 0 0 0 0 0 0 0 0 0 0 0 0 0 0 0 0 0 0 0 0 0 0 0 0 0 0 0 0 0\n",
      " 0 0 0 0 0 0 0 0 0 0 0 0 0 0 0 0 0 0 0 0 0 0 0 0 0 0 0 0 0 0 0 0 0 0 0 0 0\n",
      " 0 0 0 0 0 0 0 0 0 0 0 0 0 0 0 0 0 0 0 0 0 0 0 0 0 0 0 0 0 0 0 0 0 0 0 0 0\n",
      " 0 0 0 0 0 0 0 0 0 0 0 0 0 0 0 0 0 0 0 0 0 0 0 0 0 0 0 0 0 0 0 0 0 0 0 0 0\n",
      " 0 0 0 0 0 0 0 0 0 0 0 0 0 0 0 0 0 0 0 0 0 0 0 0 0 0 0 0 0 0 0 0 0 0 0 0 0\n",
      " 0 0 0 0 0 0]\n",
      "准确率为： 0.7450331125827815\n"
     ]
    }
   ],
   "source": [
    "def run_test():\n",
    "    global predicted_labels\n",
    "    with tf.Session() as sess:\n",
    "        print('测试模式')\n",
    "        saver.restore(sess,model_path)\n",
    "        test_feed_dict = {\n",
    "            data_placeholder:test_datas,\n",
    "            labels_placeholder:test_labels,\n",
    "            dropout_placeholder:0\n",
    "        }\n",
    "        predicted_labels_val = sess.run(predicted_labels,\n",
    "                                        feed_dict = test_feed_dict)\n",
    "        print(predicted_labels_val)\n",
    "        return predicted_labels_val\n",
    "\n",
    "predicted_labels_test = run_test()\n",
    "\n",
    "accuracy_count = 0\n",
    "for i in range(len(predicted_labels_test)):\n",
    "    if predicted_labels_test[i]==test_labels[i]:\n",
    "        accuracy_count = accuracy_count+1\n",
    "print('准确率为：',accuracy_count/len(test_labels))"
   ]
  },
  {
   "cell_type": "code",
   "execution_count": null,
   "metadata": {},
   "outputs": [],
   "source": []
  }
 ],
 "metadata": {
  "kernelspec": {
   "display_name": "Python 3",
   "language": "python",
   "name": "python3"
  },
  "language_info": {
   "codemirror_mode": {
    "name": "ipython",
    "version": 3
   },
   "file_extension": ".py",
   "mimetype": "text/x-python",
   "name": "python",
   "nbconvert_exporter": "python",
   "pygments_lexer": "ipython3",
   "version": "3.7.3"
  }
 },
 "nbformat": 4,
 "nbformat_minor": 4
}
